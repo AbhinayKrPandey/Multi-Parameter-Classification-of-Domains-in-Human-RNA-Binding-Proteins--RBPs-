{
 "cells": [
  {
   "cell_type": "code",
   "execution_count": 1,
   "id": "bda7dbcf",
   "metadata": {},
   "outputs": [
    {
     "name": "stdout",
     "output_type": "stream",
     "text": [
      "Number of PDB IDs: 1566\n"
     ]
    }
   ],
   "source": [
    "# Function to count the number of PDB IDs in the 'unique_pdb_ids.txt' file\n",
    "\"\"\"def count_pdb_ids(file_path):\n",
    "    try:\n",
    "        # Open the file in read mode\n",
    "        with open(file_path, 'r') as file:\n",
    "            # Read the file content\n",
    "            data = file.read()\n",
    "\n",
    "        # Split the content by semicolons to extract individual PDB IDs\n",
    "        pdb_ids = data.split(';')\n",
    "\n",
    "        # Filter out any empty strings (if present)\n",
    "        pdb_ids = [pdb_id.strip() for pdb_id in pdb_ids if pdb_id.strip()]\n",
    "\n",
    "        # Return the count of PDB IDs\n",
    "        return len(pdb_ids)\n",
    "\n",
    "    except FileNotFoundError:\n",
    "        return \"File not found. Please check the file path.\"\n",
    "\n",
    "# Example usage:\n",
    "file_path = 'unique_pdb_ids.txt'  # Path to your 'unique_pdb_ids.txt' file\n",
    "count = count_pdb_ids(file_path)\n",
    "print(f\"Number of PDB IDs: {count}\")\"\"\"\n"
   ]
  },
  {
   "cell_type": "code",
   "execution_count": 2,
   "id": "31340a5e",
   "metadata": {},
   "outputs": [
    {
     "name": "stdout",
     "output_type": "stream",
     "text": [
      "Number of uniprot IDs: 658\n"
     ]
    }
   ],
   "source": [
    "# Function to count the number of PDB IDs in the 'unique_pdb_ids.txt' file\n",
    "\"\"\"def count_pdb_ids(file_path):\n",
    "    try:\n",
    "        # Open the file in read mode\n",
    "        with open(file_path, 'r') as file:\n",
    "            # Read the file content\n",
    "            data = file.read()\n",
    "\n",
    "        # Split the content by semicolons to extract individual PDB IDs\n",
    "        pdb_ids = data.split(';')\n",
    "\n",
    "        # Filter out any empty strings (if present)\n",
    "        pdb_ids = [pdb_id.strip() for pdb_id in pdb_ids if pdb_id.strip()]\n",
    "\n",
    "        # Return the count of PDB IDs\n",
    "        return len(pdb_ids)\n",
    "\n",
    "    except FileNotFoundError:\n",
    "        return \"File not found. Please check the file path.\"\n",
    "\n",
    "# Example usage:\n",
    "file_path = 'unique_uniprot_ids.txt'  # Path to your 'unique_pdb_ids.txt' file\n",
    "count = count_pdb_ids(file_path)\n",
    "print(f\"Number of uniprot IDs: {count}\")\"\"\"\n"
   ]
  },
  {
   "cell_type": "code",
   "execution_count": 1,
   "id": "ca85cba0",
   "metadata": {},
   "outputs": [
    {
     "name": "stdout",
     "output_type": "stream",
     "text": [
      "Extracted 2542 PDB IDs and saved them to 'pdb_ids.txt'.\n"
     ]
    }
   ],
   "source": [
    "import pandas as pd\n",
    "\n",
    "# Load the Excel file\n",
    "excel_file = 'RPC_complete.xlsx'\n",
    "df = pd.read_excel(excel_file)\n",
    "\n",
    "# Extract the 'RCSB PDB ids' column and drop rows with NA values\n",
    "pdb_ids_column = df['RCSB PDB ids'].dropna()\n",
    "\n",
    "# Initialize a list to store all PDB IDs\n",
    "pdb_ids_list = []\n",
    "\n",
    "# Process each row, split PDB IDs by semicolons and store them\n",
    "for pdb_ids in pdb_ids_column:\n",
    "    ids = pdb_ids.split(';')  # Split by semicolons if there are multiple IDs\n",
    "    pdb_ids_list.extend(ids)  # Add all IDs to the list\n",
    "\n",
    "# Write the PDB IDs to a text file\n",
    "with open('pdb_ids.txt', 'w') as file:\n",
    "    for pdb_id in pdb_ids_list:\n",
    "        file.write(pdb_id.strip() + '\\n')  # Strip any leading/trailing whitespace and write to the file\n",
    "\n",
    "print(f\"Extracted {len(pdb_ids_list)} PDB IDs and saved them to 'pdb_ids.txt'.\")\n"
   ]
  },
  {
   "cell_type": "code",
   "execution_count": 2,
   "id": "a1337667",
   "metadata": {},
   "outputs": [
    {
     "name": "stdout",
     "output_type": "stream",
     "text": [
      "Total number of PDB IDs: 2537\n"
     ]
    }
   ],
   "source": [
    "# Open the pdb_ids.txt file and read all lines\n",
    "with open('pdb_ids.txt', 'r') as file:\n",
    "    pdb_ids = file.readlines()\n",
    "\n",
    "# Remove any leading/trailing whitespace from each PDB ID and filter out empty lines\n",
    "pdb_ids = [pdb_id.strip() for pdb_id in pdb_ids if pdb_id.strip()]\n",
    "\n",
    "# Count the total number of PDB IDs\n",
    "total_pdb_ids = len(pdb_ids)\n",
    "\n",
    "# Output the result\n",
    "print(f\"Total number of PDB IDs: {total_pdb_ids}\")\n"
   ]
  },
  {
   "cell_type": "code",
   "execution_count": 3,
   "id": "545c4d82",
   "metadata": {},
   "outputs": [
    {
     "name": "stdout",
     "output_type": "stream",
     "text": [
      "Total number of unique PDB IDs: 1566\n"
     ]
    }
   ],
   "source": [
    "# Open the pdb_ids.txt file and read all lines\n",
    "with open('pdb_ids.txt', 'r') as file:\n",
    "    pdb_ids = file.readlines()\n",
    "\n",
    "# Remove any leading/trailing whitespace and filter out empty lines\n",
    "pdb_ids = [pdb_id.strip() for pdb_id in pdb_ids if pdb_id.strip()]\n",
    "\n",
    "# Remove duplicates by converting the list to a set\n",
    "unique_pdb_ids = set(pdb_ids)\n",
    "\n",
    "# Write the unique PDB IDs to a new file unique_ids_pdb.txt\n",
    "with open('unique_ids_pdb.txt', 'w') as file:\n",
    "    for pdb_id in unique_pdb_ids:\n",
    "        file.write(pdb_id + '\\n')\n",
    "\n",
    "# Count the total number of unique PDB IDs\n",
    "total_unique_pdb_ids = len(unique_pdb_ids)\n",
    "\n",
    "# Output the result\n",
    "print(f\"Total number of unique PDB IDs: {total_unique_pdb_ids}\")\n"
   ]
  },
  {
   "cell_type": "code",
   "execution_count": 4,
   "id": "8e7b6a82",
   "metadata": {},
   "outputs": [
    {
     "name": "stdout",
     "output_type": "stream",
     "text": [
      "Total number of unique UniProt IDs with proper PDB IDs: 658\n"
     ]
    }
   ],
   "source": [
    "import pandas as pd\n",
    "\n",
    "# Load the Excel file\n",
    "excel_file = 'RPC_complete.xlsx'\n",
    "df = pd.read_excel(excel_file)\n",
    "\n",
    "# Filter out rows where 'RCSB PDB ids' is NA\n",
    "filtered_df = df[df['RCSB PDB ids'].notna()]\n",
    "\n",
    "# Extract the unique 'UniProt ids' (column name: IDS)\n",
    "unique_uniprot_ids = filtered_df['IDS'].unique()\n",
    "\n",
    "# Convert the array of unique UniProt IDs to a list\n",
    "unique_uniprot_ids_list = unique_uniprot_ids.tolist()\n",
    "\n",
    "# Optionally, save the unique UniProt IDs to a text file\n",
    "with open('unique_uniprot_ids.txt', 'w') as file:\n",
    "    for uniprot_id in unique_uniprot_ids_list:\n",
    "        file.write(uniprot_id + '\\n')\n",
    "\n",
    "# Output the total number of unique UniProt IDs\n",
    "print(f\"Total number of unique UniProt IDs with proper PDB IDs: {len(unique_uniprot_ids_list)}\")\n"
   ]
  },
  {
   "cell_type": "code",
   "execution_count": null,
   "id": "abc22610",
   "metadata": {},
   "outputs": [],
   "source": []
  }
 ],
 "metadata": {
  "kernelspec": {
   "display_name": "Python 3 (ipykernel)",
   "language": "python",
   "name": "python3"
  },
  "language_info": {
   "codemirror_mode": {
    "name": "ipython",
    "version": 3
   },
   "file_extension": ".py",
   "mimetype": "text/x-python",
   "name": "python",
   "nbconvert_exporter": "python",
   "pygments_lexer": "ipython3",
   "version": "3.9.13"
  }
 },
 "nbformat": 4,
 "nbformat_minor": 5
}
